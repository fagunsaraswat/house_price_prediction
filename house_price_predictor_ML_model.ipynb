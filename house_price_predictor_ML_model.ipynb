{
 "cells": [
  {
   "cell_type": "markdown",
   "id": "a31cfe85-8da7-4e21-aaca-2a3097717363",
   "metadata": {},
   "source": [
    "# Machine Learning Model Training and Testing "
   ]
  },
  {
   "cell_type": "markdown",
   "id": "0700f935-b394-4962-a886-285d6cbaac2a",
   "metadata": {},
   "source": [
    "### This notebook only train ML model on different ml algorithms"
   ]
  },
  {
   "cell_type": "code",
   "execution_count": 1,
   "id": "6e51d794-c836-401f-88fc-906b28c2c53b",
   "metadata": {
    "tags": []
   },
   "outputs": [],
   "source": [
    "import numpy as np\n",
    "import pandas as pd\n",
    "import matplotlib.pyplot as plt\n",
    "import seaborn as sns"
   ]
  },
  {
   "cell_type": "code",
   "execution_count": 2,
   "id": "0c8d19c0-da90-4074-9f28-2cba77b61591",
   "metadata": {
    "tags": []
   },
   "outputs": [],
   "source": [
    "pd.set_option(\"display.max_columns\", None)\n",
    "pd.set_option(\"display.max_rows\", None)"
   ]
  },
  {
   "cell_type": "code",
   "execution_count": 3,
   "id": "5ea249b0-75ed-4326-9a21-b4691e861f5b",
   "metadata": {
    "tags": []
   },
   "outputs": [],
   "source": [
    "df = pd.read_csv('oh_encoded_data.csv')"
   ]
  },
  {
   "cell_type": "code",
   "execution_count": 4,
   "id": "5d83b489-81d2-4c9a-8f21-34ef72a5fc79",
   "metadata": {
    "tags": []
   },
   "outputs": [
    {
     "data": {
      "text/plain": [
       "(7120, 108)"
      ]
     },
     "execution_count": 4,
     "metadata": {},
     "output_type": "execute_result"
    }
   ],
   "source": [
    "#Get clean data\n",
    "path= r\"C:\\house_price_prediction\\ohe_reduced_catVar.csv\"\n",
    "\n",
    "df=pd.read_csv(path)\n",
    "df.shape"
   ]
  },
  {
   "cell_type": "code",
   "execution_count": 5,
   "id": "07395a1b-e81a-4b6c-bae7-fbe5b246e2d5",
   "metadata": {
    "tags": []
   },
   "outputs": [
    {
     "data": {
      "text/html": [
       "<div>\n",
       "<style scoped>\n",
       "    .dataframe tbody tr th:only-of-type {\n",
       "        vertical-align: middle;\n",
       "    }\n",
       "\n",
       "    .dataframe tbody tr th {\n",
       "        vertical-align: top;\n",
       "    }\n",
       "\n",
       "    .dataframe thead th {\n",
       "        text-align: right;\n",
       "    }\n",
       "</style>\n",
       "<table border=\"1\" class=\"dataframe\">\n",
       "  <thead>\n",
       "    <tr style=\"text-align: right;\">\n",
       "      <th></th>\n",
       "      <th>bath</th>\n",
       "      <th>balcony</th>\n",
       "      <th>price</th>\n",
       "      <th>total_sqft_int</th>\n",
       "      <th>bhk</th>\n",
       "      <th>price_per_sqft</th>\n",
       "      <th>area_typeSuper built-up  Area</th>\n",
       "      <th>area_typeBuilt-up  Area</th>\n",
       "      <th>area_typePlot  Area</th>\n",
       "      <th>availability_Ready To Move</th>\n",
       "      <th>location_Whitefield</th>\n",
       "      <th>location_Sarjapur  Road</th>\n",
       "      <th>location_Electronic City</th>\n",
       "      <th>location_Marathahalli</th>\n",
       "      <th>location_Raja Rajeshwari Nagar</th>\n",
       "      <th>location_Haralur Road</th>\n",
       "      <th>location_Hennur Road</th>\n",
       "      <th>location_Bannerghatta Road</th>\n",
       "      <th>location_Uttarahalli</th>\n",
       "      <th>location_Thanisandra</th>\n",
       "      <th>location_Electronic City Phase II</th>\n",
       "      <th>location_Hebbal</th>\n",
       "      <th>location_Yelahanka</th>\n",
       "      <th>location_7th Phase JP Nagar</th>\n",
       "      <th>location_Kanakpura Road</th>\n",
       "      <th>location_KR Puram</th>\n",
       "      <th>location_Sarjapur</th>\n",
       "      <th>location_Rajaji Nagar</th>\n",
       "      <th>location_Bellandur</th>\n",
       "      <th>location_Kasavanhalli</th>\n",
       "      <th>location_Begur Road</th>\n",
       "      <th>location_Banashankari</th>\n",
       "      <th>location_Kothanur</th>\n",
       "      <th>location_Hormavu</th>\n",
       "      <th>location_Harlur</th>\n",
       "      <th>location_Akshaya Nagar</th>\n",
       "      <th>location_Electronics City Phase 1</th>\n",
       "      <th>location_Jakkur</th>\n",
       "      <th>location_Varthur</th>\n",
       "      <th>location_HSR Layout</th>\n",
       "      <th>location_Hennur</th>\n",
       "      <th>location_Ramamurthy Nagar</th>\n",
       "      <th>location_Chandapura</th>\n",
       "      <th>location_Koramangala</th>\n",
       "      <th>location_Kaggadasapura</th>\n",
       "      <th>location_Kundalahalli</th>\n",
       "      <th>location_Ramagondanahalli</th>\n",
       "      <th>location_Budigere</th>\n",
       "      <th>location_Hulimavu</th>\n",
       "      <th>location_Hoodi</th>\n",
       "      <th>location_Malleshwaram</th>\n",
       "      <th>location_Hegde Nagar</th>\n",
       "      <th>location_Yeshwanthpur</th>\n",
       "      <th>location_Gottigere</th>\n",
       "      <th>location_8th Phase JP Nagar</th>\n",
       "      <th>location_JP Nagar</th>\n",
       "      <th>location_Channasandra</th>\n",
       "      <th>location_Bisuvanahalli</th>\n",
       "      <th>location_Vittasandra</th>\n",
       "      <th>location_Indira Nagar</th>\n",
       "      <th>location_Old Airport Road</th>\n",
       "      <th>location_Sahakara Nagar</th>\n",
       "      <th>location_Brookefield</th>\n",
       "      <th>location_Kengeri</th>\n",
       "      <th>location_Hosa Road</th>\n",
       "      <th>location_Vijayanagar</th>\n",
       "      <th>location_Balagere</th>\n",
       "      <th>location_Green Glen Layout</th>\n",
       "      <th>location_Bommasandra</th>\n",
       "      <th>location_Rachenahalli</th>\n",
       "      <th>location_Panathur</th>\n",
       "      <th>location_Old Madras Road</th>\n",
       "      <th>location_Kudlu Gate</th>\n",
       "      <th>location_Mysore Road</th>\n",
       "      <th>location_Thigalarapalya</th>\n",
       "      <th>location_Talaghattapura</th>\n",
       "      <th>location_Kadugodi</th>\n",
       "      <th>location_Ambedkar Nagar</th>\n",
       "      <th>location_Jigani</th>\n",
       "      <th>location_Yelahanka New Town</th>\n",
       "      <th>location_Frazer Town</th>\n",
       "      <th>location_Kanakapura</th>\n",
       "      <th>location_Attibele</th>\n",
       "      <th>location_Dodda Nekkundi</th>\n",
       "      <th>location_Devanahalli</th>\n",
       "      <th>location_Lakshminarayana Pura</th>\n",
       "      <th>location_Nagarbhavi</th>\n",
       "      <th>location_5th Phase JP Nagar</th>\n",
       "      <th>location_TC Palaya</th>\n",
       "      <th>location_Ananth Nagar</th>\n",
       "      <th>location_Anekal</th>\n",
       "      <th>location_Kudlu</th>\n",
       "      <th>location_CV Raman Nagar</th>\n",
       "      <th>location_Jalahalli</th>\n",
       "      <th>location_Kengeri Satellite Town</th>\n",
       "      <th>location_Doddathoguru</th>\n",
       "      <th>location_Bhoganhalli</th>\n",
       "      <th>location_Subramanyapura</th>\n",
       "      <th>location_Kalena Agrahara</th>\n",
       "      <th>location_Horamavu Agara</th>\n",
       "      <th>location_Vidyaranyapura</th>\n",
       "      <th>location_Hosur Road</th>\n",
       "      <th>location_Hebbal Kempapura</th>\n",
       "      <th>location_BTM 2nd Stage</th>\n",
       "      <th>location_Domlur</th>\n",
       "      <th>location_Horamavu Banaswadi</th>\n",
       "      <th>location_Tumkur Road</th>\n",
       "      <th>location_Mahadevpura</th>\n",
       "    </tr>\n",
       "  </thead>\n",
       "  <tbody>\n",
       "    <tr>\n",
       "      <th>0</th>\n",
       "      <td>3.0</td>\n",
       "      <td>2.0</td>\n",
       "      <td>150.0</td>\n",
       "      <td>1672.0</td>\n",
       "      <td>3</td>\n",
       "      <td>8971.291866</td>\n",
       "      <td>1</td>\n",
       "      <td>0</td>\n",
       "      <td>0</td>\n",
       "      <td>1</td>\n",
       "      <td>0</td>\n",
       "      <td>0</td>\n",
       "      <td>0</td>\n",
       "      <td>0</td>\n",
       "      <td>0</td>\n",
       "      <td>0</td>\n",
       "      <td>0</td>\n",
       "      <td>0</td>\n",
       "      <td>0</td>\n",
       "      <td>0</td>\n",
       "      <td>0</td>\n",
       "      <td>0</td>\n",
       "      <td>0</td>\n",
       "      <td>0</td>\n",
       "      <td>0</td>\n",
       "      <td>0</td>\n",
       "      <td>0</td>\n",
       "      <td>0</td>\n",
       "      <td>0</td>\n",
       "      <td>0</td>\n",
       "      <td>0</td>\n",
       "      <td>0</td>\n",
       "      <td>0</td>\n",
       "      <td>0</td>\n",
       "      <td>0</td>\n",
       "      <td>0</td>\n",
       "      <td>0</td>\n",
       "      <td>0</td>\n",
       "      <td>0</td>\n",
       "      <td>0</td>\n",
       "      <td>0</td>\n",
       "      <td>0</td>\n",
       "      <td>0</td>\n",
       "      <td>0</td>\n",
       "      <td>0</td>\n",
       "      <td>0</td>\n",
       "      <td>0</td>\n",
       "      <td>0</td>\n",
       "      <td>0</td>\n",
       "      <td>0</td>\n",
       "      <td>0</td>\n",
       "      <td>0</td>\n",
       "      <td>0</td>\n",
       "      <td>0</td>\n",
       "      <td>0</td>\n",
       "      <td>0</td>\n",
       "      <td>0</td>\n",
       "      <td>0</td>\n",
       "      <td>0</td>\n",
       "      <td>0</td>\n",
       "      <td>0</td>\n",
       "      <td>0</td>\n",
       "      <td>0</td>\n",
       "      <td>0</td>\n",
       "      <td>0</td>\n",
       "      <td>0</td>\n",
       "      <td>0</td>\n",
       "      <td>0</td>\n",
       "      <td>0</td>\n",
       "      <td>0</td>\n",
       "      <td>0</td>\n",
       "      <td>0</td>\n",
       "      <td>0</td>\n",
       "      <td>0</td>\n",
       "      <td>0</td>\n",
       "      <td>0</td>\n",
       "      <td>0</td>\n",
       "      <td>0</td>\n",
       "      <td>0</td>\n",
       "      <td>0</td>\n",
       "      <td>0</td>\n",
       "      <td>0</td>\n",
       "      <td>0</td>\n",
       "      <td>0</td>\n",
       "      <td>0</td>\n",
       "      <td>0</td>\n",
       "      <td>0</td>\n",
       "      <td>0</td>\n",
       "      <td>0</td>\n",
       "      <td>0</td>\n",
       "      <td>0</td>\n",
       "      <td>0</td>\n",
       "      <td>0</td>\n",
       "      <td>0</td>\n",
       "      <td>0</td>\n",
       "      <td>0</td>\n",
       "      <td>0</td>\n",
       "      <td>0</td>\n",
       "      <td>0</td>\n",
       "      <td>0</td>\n",
       "      <td>0</td>\n",
       "      <td>0</td>\n",
       "      <td>0</td>\n",
       "      <td>0</td>\n",
       "      <td>0</td>\n",
       "      <td>0</td>\n",
       "      <td>0</td>\n",
       "      <td>0</td>\n",
       "    </tr>\n",
       "    <tr>\n",
       "      <th>1</th>\n",
       "      <td>3.0</td>\n",
       "      <td>3.0</td>\n",
       "      <td>149.0</td>\n",
       "      <td>1750.0</td>\n",
       "      <td>3</td>\n",
       "      <td>8514.285714</td>\n",
       "      <td>0</td>\n",
       "      <td>1</td>\n",
       "      <td>0</td>\n",
       "      <td>1</td>\n",
       "      <td>0</td>\n",
       "      <td>0</td>\n",
       "      <td>0</td>\n",
       "      <td>0</td>\n",
       "      <td>0</td>\n",
       "      <td>0</td>\n",
       "      <td>0</td>\n",
       "      <td>0</td>\n",
       "      <td>0</td>\n",
       "      <td>0</td>\n",
       "      <td>0</td>\n",
       "      <td>0</td>\n",
       "      <td>0</td>\n",
       "      <td>0</td>\n",
       "      <td>0</td>\n",
       "      <td>0</td>\n",
       "      <td>0</td>\n",
       "      <td>0</td>\n",
       "      <td>0</td>\n",
       "      <td>0</td>\n",
       "      <td>0</td>\n",
       "      <td>0</td>\n",
       "      <td>0</td>\n",
       "      <td>0</td>\n",
       "      <td>0</td>\n",
       "      <td>0</td>\n",
       "      <td>0</td>\n",
       "      <td>0</td>\n",
       "      <td>0</td>\n",
       "      <td>0</td>\n",
       "      <td>0</td>\n",
       "      <td>0</td>\n",
       "      <td>0</td>\n",
       "      <td>0</td>\n",
       "      <td>0</td>\n",
       "      <td>0</td>\n",
       "      <td>0</td>\n",
       "      <td>0</td>\n",
       "      <td>0</td>\n",
       "      <td>0</td>\n",
       "      <td>0</td>\n",
       "      <td>0</td>\n",
       "      <td>0</td>\n",
       "      <td>0</td>\n",
       "      <td>0</td>\n",
       "      <td>0</td>\n",
       "      <td>0</td>\n",
       "      <td>0</td>\n",
       "      <td>0</td>\n",
       "      <td>0</td>\n",
       "      <td>0</td>\n",
       "      <td>0</td>\n",
       "      <td>0</td>\n",
       "      <td>0</td>\n",
       "      <td>0</td>\n",
       "      <td>0</td>\n",
       "      <td>0</td>\n",
       "      <td>0</td>\n",
       "      <td>0</td>\n",
       "      <td>0</td>\n",
       "      <td>0</td>\n",
       "      <td>0</td>\n",
       "      <td>0</td>\n",
       "      <td>0</td>\n",
       "      <td>0</td>\n",
       "      <td>0</td>\n",
       "      <td>0</td>\n",
       "      <td>0</td>\n",
       "      <td>0</td>\n",
       "      <td>0</td>\n",
       "      <td>0</td>\n",
       "      <td>0</td>\n",
       "      <td>0</td>\n",
       "      <td>0</td>\n",
       "      <td>0</td>\n",
       "      <td>0</td>\n",
       "      <td>0</td>\n",
       "      <td>0</td>\n",
       "      <td>0</td>\n",
       "      <td>0</td>\n",
       "      <td>0</td>\n",
       "      <td>0</td>\n",
       "      <td>0</td>\n",
       "      <td>0</td>\n",
       "      <td>0</td>\n",
       "      <td>0</td>\n",
       "      <td>0</td>\n",
       "      <td>0</td>\n",
       "      <td>0</td>\n",
       "      <td>0</td>\n",
       "      <td>0</td>\n",
       "      <td>0</td>\n",
       "      <td>0</td>\n",
       "      <td>0</td>\n",
       "      <td>0</td>\n",
       "      <td>0</td>\n",
       "      <td>0</td>\n",
       "      <td>0</td>\n",
       "    </tr>\n",
       "    <tr>\n",
       "      <th>2</th>\n",
       "      <td>3.0</td>\n",
       "      <td>2.0</td>\n",
       "      <td>150.0</td>\n",
       "      <td>1750.0</td>\n",
       "      <td>3</td>\n",
       "      <td>8571.428571</td>\n",
       "      <td>1</td>\n",
       "      <td>0</td>\n",
       "      <td>0</td>\n",
       "      <td>1</td>\n",
       "      <td>0</td>\n",
       "      <td>0</td>\n",
       "      <td>0</td>\n",
       "      <td>0</td>\n",
       "      <td>0</td>\n",
       "      <td>0</td>\n",
       "      <td>0</td>\n",
       "      <td>0</td>\n",
       "      <td>0</td>\n",
       "      <td>0</td>\n",
       "      <td>0</td>\n",
       "      <td>0</td>\n",
       "      <td>0</td>\n",
       "      <td>0</td>\n",
       "      <td>0</td>\n",
       "      <td>0</td>\n",
       "      <td>0</td>\n",
       "      <td>0</td>\n",
       "      <td>0</td>\n",
       "      <td>0</td>\n",
       "      <td>0</td>\n",
       "      <td>0</td>\n",
       "      <td>0</td>\n",
       "      <td>0</td>\n",
       "      <td>0</td>\n",
       "      <td>0</td>\n",
       "      <td>0</td>\n",
       "      <td>0</td>\n",
       "      <td>0</td>\n",
       "      <td>0</td>\n",
       "      <td>0</td>\n",
       "      <td>0</td>\n",
       "      <td>0</td>\n",
       "      <td>0</td>\n",
       "      <td>0</td>\n",
       "      <td>0</td>\n",
       "      <td>0</td>\n",
       "      <td>0</td>\n",
       "      <td>0</td>\n",
       "      <td>0</td>\n",
       "      <td>0</td>\n",
       "      <td>0</td>\n",
       "      <td>0</td>\n",
       "      <td>0</td>\n",
       "      <td>0</td>\n",
       "      <td>0</td>\n",
       "      <td>0</td>\n",
       "      <td>0</td>\n",
       "      <td>0</td>\n",
       "      <td>0</td>\n",
       "      <td>0</td>\n",
       "      <td>0</td>\n",
       "      <td>0</td>\n",
       "      <td>0</td>\n",
       "      <td>0</td>\n",
       "      <td>0</td>\n",
       "      <td>0</td>\n",
       "      <td>0</td>\n",
       "      <td>0</td>\n",
       "      <td>0</td>\n",
       "      <td>0</td>\n",
       "      <td>0</td>\n",
       "      <td>0</td>\n",
       "      <td>0</td>\n",
       "      <td>0</td>\n",
       "      <td>0</td>\n",
       "      <td>0</td>\n",
       "      <td>0</td>\n",
       "      <td>0</td>\n",
       "      <td>0</td>\n",
       "      <td>0</td>\n",
       "      <td>0</td>\n",
       "      <td>0</td>\n",
       "      <td>0</td>\n",
       "      <td>0</td>\n",
       "      <td>0</td>\n",
       "      <td>0</td>\n",
       "      <td>0</td>\n",
       "      <td>0</td>\n",
       "      <td>0</td>\n",
       "      <td>0</td>\n",
       "      <td>0</td>\n",
       "      <td>0</td>\n",
       "      <td>0</td>\n",
       "      <td>0</td>\n",
       "      <td>0</td>\n",
       "      <td>0</td>\n",
       "      <td>0</td>\n",
       "      <td>0</td>\n",
       "      <td>0</td>\n",
       "      <td>0</td>\n",
       "      <td>0</td>\n",
       "      <td>0</td>\n",
       "      <td>0</td>\n",
       "      <td>0</td>\n",
       "      <td>0</td>\n",
       "      <td>0</td>\n",
       "      <td>0</td>\n",
       "    </tr>\n",
       "    <tr>\n",
       "      <th>3</th>\n",
       "      <td>2.0</td>\n",
       "      <td>2.0</td>\n",
       "      <td>40.0</td>\n",
       "      <td>1250.0</td>\n",
       "      <td>2</td>\n",
       "      <td>3200.000000</td>\n",
       "      <td>1</td>\n",
       "      <td>0</td>\n",
       "      <td>0</td>\n",
       "      <td>1</td>\n",
       "      <td>0</td>\n",
       "      <td>0</td>\n",
       "      <td>0</td>\n",
       "      <td>0</td>\n",
       "      <td>0</td>\n",
       "      <td>0</td>\n",
       "      <td>0</td>\n",
       "      <td>0</td>\n",
       "      <td>0</td>\n",
       "      <td>0</td>\n",
       "      <td>0</td>\n",
       "      <td>0</td>\n",
       "      <td>0</td>\n",
       "      <td>0</td>\n",
       "      <td>0</td>\n",
       "      <td>0</td>\n",
       "      <td>0</td>\n",
       "      <td>0</td>\n",
       "      <td>0</td>\n",
       "      <td>0</td>\n",
       "      <td>0</td>\n",
       "      <td>0</td>\n",
       "      <td>0</td>\n",
       "      <td>0</td>\n",
       "      <td>0</td>\n",
       "      <td>0</td>\n",
       "      <td>0</td>\n",
       "      <td>0</td>\n",
       "      <td>0</td>\n",
       "      <td>0</td>\n",
       "      <td>0</td>\n",
       "      <td>0</td>\n",
       "      <td>0</td>\n",
       "      <td>0</td>\n",
       "      <td>0</td>\n",
       "      <td>0</td>\n",
       "      <td>0</td>\n",
       "      <td>0</td>\n",
       "      <td>0</td>\n",
       "      <td>0</td>\n",
       "      <td>0</td>\n",
       "      <td>0</td>\n",
       "      <td>0</td>\n",
       "      <td>0</td>\n",
       "      <td>0</td>\n",
       "      <td>0</td>\n",
       "      <td>0</td>\n",
       "      <td>0</td>\n",
       "      <td>0</td>\n",
       "      <td>0</td>\n",
       "      <td>0</td>\n",
       "      <td>0</td>\n",
       "      <td>0</td>\n",
       "      <td>0</td>\n",
       "      <td>0</td>\n",
       "      <td>0</td>\n",
       "      <td>0</td>\n",
       "      <td>0</td>\n",
       "      <td>0</td>\n",
       "      <td>0</td>\n",
       "      <td>0</td>\n",
       "      <td>0</td>\n",
       "      <td>0</td>\n",
       "      <td>0</td>\n",
       "      <td>0</td>\n",
       "      <td>0</td>\n",
       "      <td>0</td>\n",
       "      <td>0</td>\n",
       "      <td>0</td>\n",
       "      <td>0</td>\n",
       "      <td>0</td>\n",
       "      <td>0</td>\n",
       "      <td>0</td>\n",
       "      <td>0</td>\n",
       "      <td>0</td>\n",
       "      <td>0</td>\n",
       "      <td>0</td>\n",
       "      <td>0</td>\n",
       "      <td>0</td>\n",
       "      <td>0</td>\n",
       "      <td>0</td>\n",
       "      <td>0</td>\n",
       "      <td>0</td>\n",
       "      <td>0</td>\n",
       "      <td>0</td>\n",
       "      <td>0</td>\n",
       "      <td>0</td>\n",
       "      <td>0</td>\n",
       "      <td>0</td>\n",
       "      <td>0</td>\n",
       "      <td>0</td>\n",
       "      <td>0</td>\n",
       "      <td>0</td>\n",
       "      <td>0</td>\n",
       "      <td>0</td>\n",
       "      <td>0</td>\n",
       "      <td>0</td>\n",
       "      <td>0</td>\n",
       "    </tr>\n",
       "    <tr>\n",
       "      <th>4</th>\n",
       "      <td>2.0</td>\n",
       "      <td>2.0</td>\n",
       "      <td>83.0</td>\n",
       "      <td>1200.0</td>\n",
       "      <td>2</td>\n",
       "      <td>6916.666667</td>\n",
       "      <td>0</td>\n",
       "      <td>0</td>\n",
       "      <td>1</td>\n",
       "      <td>1</td>\n",
       "      <td>0</td>\n",
       "      <td>0</td>\n",
       "      <td>0</td>\n",
       "      <td>0</td>\n",
       "      <td>0</td>\n",
       "      <td>0</td>\n",
       "      <td>0</td>\n",
       "      <td>0</td>\n",
       "      <td>0</td>\n",
       "      <td>0</td>\n",
       "      <td>0</td>\n",
       "      <td>0</td>\n",
       "      <td>0</td>\n",
       "      <td>0</td>\n",
       "      <td>0</td>\n",
       "      <td>0</td>\n",
       "      <td>0</td>\n",
       "      <td>0</td>\n",
       "      <td>0</td>\n",
       "      <td>0</td>\n",
       "      <td>0</td>\n",
       "      <td>0</td>\n",
       "      <td>0</td>\n",
       "      <td>0</td>\n",
       "      <td>0</td>\n",
       "      <td>0</td>\n",
       "      <td>0</td>\n",
       "      <td>0</td>\n",
       "      <td>0</td>\n",
       "      <td>0</td>\n",
       "      <td>0</td>\n",
       "      <td>0</td>\n",
       "      <td>0</td>\n",
       "      <td>0</td>\n",
       "      <td>0</td>\n",
       "      <td>0</td>\n",
       "      <td>0</td>\n",
       "      <td>0</td>\n",
       "      <td>0</td>\n",
       "      <td>0</td>\n",
       "      <td>0</td>\n",
       "      <td>0</td>\n",
       "      <td>0</td>\n",
       "      <td>0</td>\n",
       "      <td>0</td>\n",
       "      <td>0</td>\n",
       "      <td>0</td>\n",
       "      <td>0</td>\n",
       "      <td>0</td>\n",
       "      <td>0</td>\n",
       "      <td>0</td>\n",
       "      <td>0</td>\n",
       "      <td>0</td>\n",
       "      <td>0</td>\n",
       "      <td>0</td>\n",
       "      <td>0</td>\n",
       "      <td>0</td>\n",
       "      <td>0</td>\n",
       "      <td>0</td>\n",
       "      <td>0</td>\n",
       "      <td>0</td>\n",
       "      <td>0</td>\n",
       "      <td>0</td>\n",
       "      <td>0</td>\n",
       "      <td>0</td>\n",
       "      <td>0</td>\n",
       "      <td>0</td>\n",
       "      <td>0</td>\n",
       "      <td>0</td>\n",
       "      <td>0</td>\n",
       "      <td>0</td>\n",
       "      <td>0</td>\n",
       "      <td>0</td>\n",
       "      <td>0</td>\n",
       "      <td>0</td>\n",
       "      <td>0</td>\n",
       "      <td>0</td>\n",
       "      <td>0</td>\n",
       "      <td>0</td>\n",
       "      <td>0</td>\n",
       "      <td>0</td>\n",
       "      <td>0</td>\n",
       "      <td>0</td>\n",
       "      <td>0</td>\n",
       "      <td>0</td>\n",
       "      <td>0</td>\n",
       "      <td>0</td>\n",
       "      <td>0</td>\n",
       "      <td>0</td>\n",
       "      <td>0</td>\n",
       "      <td>0</td>\n",
       "      <td>0</td>\n",
       "      <td>0</td>\n",
       "      <td>0</td>\n",
       "      <td>0</td>\n",
       "      <td>0</td>\n",
       "      <td>0</td>\n",
       "      <td>0</td>\n",
       "    </tr>\n",
       "  </tbody>\n",
       "</table>\n",
       "</div>"
      ],
      "text/plain": [
       "   bath  balcony  price  total_sqft_int  bhk  price_per_sqft  \\\n",
       "0   3.0      2.0  150.0          1672.0    3     8971.291866   \n",
       "1   3.0      3.0  149.0          1750.0    3     8514.285714   \n",
       "2   3.0      2.0  150.0          1750.0    3     8571.428571   \n",
       "3   2.0      2.0   40.0          1250.0    2     3200.000000   \n",
       "4   2.0      2.0   83.0          1200.0    2     6916.666667   \n",
       "\n",
       "   area_typeSuper built-up  Area  area_typeBuilt-up  Area  \\\n",
       "0                              1                        0   \n",
       "1                              0                        1   \n",
       "2                              1                        0   \n",
       "3                              1                        0   \n",
       "4                              0                        0   \n",
       "\n",
       "   area_typePlot  Area  availability_Ready To Move  location_Whitefield  \\\n",
       "0                    0                           1                    0   \n",
       "1                    0                           1                    0   \n",
       "2                    0                           1                    0   \n",
       "3                    0                           1                    0   \n",
       "4                    1                           1                    0   \n",
       "\n",
       "   location_Sarjapur  Road  location_Electronic City  location_Marathahalli  \\\n",
       "0                        0                         0                      0   \n",
       "1                        0                         0                      0   \n",
       "2                        0                         0                      0   \n",
       "3                        0                         0                      0   \n",
       "4                        0                         0                      0   \n",
       "\n",
       "   location_Raja Rajeshwari Nagar  location_Haralur Road  \\\n",
       "0                               0                      0   \n",
       "1                               0                      0   \n",
       "2                               0                      0   \n",
       "3                               0                      0   \n",
       "4                               0                      0   \n",
       "\n",
       "   location_Hennur Road  location_Bannerghatta Road  location_Uttarahalli  \\\n",
       "0                     0                           0                     0   \n",
       "1                     0                           0                     0   \n",
       "2                     0                           0                     0   \n",
       "3                     0                           0                     0   \n",
       "4                     0                           0                     0   \n",
       "\n",
       "   location_Thanisandra  location_Electronic City Phase II  location_Hebbal  \\\n",
       "0                     0                                  0                0   \n",
       "1                     0                                  0                0   \n",
       "2                     0                                  0                0   \n",
       "3                     0                                  0                0   \n",
       "4                     0                                  0                0   \n",
       "\n",
       "   location_Yelahanka  location_7th Phase JP Nagar  location_Kanakpura Road  \\\n",
       "0                   0                            0                        0   \n",
       "1                   0                            0                        0   \n",
       "2                   0                            0                        0   \n",
       "3                   0                            0                        0   \n",
       "4                   0                            0                        0   \n",
       "\n",
       "   location_KR Puram  location_Sarjapur  location_Rajaji Nagar  \\\n",
       "0                  0                  0                      0   \n",
       "1                  0                  0                      0   \n",
       "2                  0                  0                      0   \n",
       "3                  0                  0                      0   \n",
       "4                  0                  0                      0   \n",
       "\n",
       "   location_Bellandur  location_Kasavanhalli  location_Begur Road  \\\n",
       "0                   0                      0                    0   \n",
       "1                   0                      0                    0   \n",
       "2                   0                      0                    0   \n",
       "3                   0                      0                    0   \n",
       "4                   0                      0                    0   \n",
       "\n",
       "   location_Banashankari  location_Kothanur  location_Hormavu  \\\n",
       "0                      0                  0                 0   \n",
       "1                      0                  0                 0   \n",
       "2                      0                  0                 0   \n",
       "3                      0                  0                 0   \n",
       "4                      0                  0                 0   \n",
       "\n",
       "   location_Harlur  location_Akshaya Nagar  location_Electronics City Phase 1  \\\n",
       "0                0                       0                                  0   \n",
       "1                0                       0                                  0   \n",
       "2                0                       0                                  0   \n",
       "3                0                       0                                  0   \n",
       "4                0                       0                                  0   \n",
       "\n",
       "   location_Jakkur  location_Varthur  location_HSR Layout  location_Hennur  \\\n",
       "0                0                 0                    0                0   \n",
       "1                0                 0                    0                0   \n",
       "2                0                 0                    0                0   \n",
       "3                0                 0                    0                0   \n",
       "4                0                 0                    0                0   \n",
       "\n",
       "   location_Ramamurthy Nagar  location_Chandapura  location_Koramangala  \\\n",
       "0                          0                    0                     0   \n",
       "1                          0                    0                     0   \n",
       "2                          0                    0                     0   \n",
       "3                          0                    0                     0   \n",
       "4                          0                    0                     0   \n",
       "\n",
       "   location_Kaggadasapura  location_Kundalahalli  location_Ramagondanahalli  \\\n",
       "0                       0                      0                          0   \n",
       "1                       0                      0                          0   \n",
       "2                       0                      0                          0   \n",
       "3                       0                      0                          0   \n",
       "4                       0                      0                          0   \n",
       "\n",
       "   location_Budigere  location_Hulimavu  location_Hoodi  \\\n",
       "0                  0                  0               0   \n",
       "1                  0                  0               0   \n",
       "2                  0                  0               0   \n",
       "3                  0                  0               0   \n",
       "4                  0                  0               0   \n",
       "\n",
       "   location_Malleshwaram  location_Hegde Nagar  location_Yeshwanthpur  \\\n",
       "0                      0                     0                      0   \n",
       "1                      0                     0                      0   \n",
       "2                      0                     0                      0   \n",
       "3                      0                     0                      0   \n",
       "4                      0                     0                      0   \n",
       "\n",
       "   location_Gottigere  location_8th Phase JP Nagar  location_JP Nagar  \\\n",
       "0                   0                            0                  0   \n",
       "1                   0                            0                  0   \n",
       "2                   0                            0                  0   \n",
       "3                   0                            0                  0   \n",
       "4                   0                            0                  0   \n",
       "\n",
       "   location_Channasandra  location_Bisuvanahalli  location_Vittasandra  \\\n",
       "0                      0                       0                     0   \n",
       "1                      0                       0                     0   \n",
       "2                      0                       0                     0   \n",
       "3                      0                       0                     0   \n",
       "4                      0                       0                     0   \n",
       "\n",
       "   location_Indira Nagar  location_Old Airport Road  location_Sahakara Nagar  \\\n",
       "0                      0                          0                        0   \n",
       "1                      0                          0                        0   \n",
       "2                      0                          0                        0   \n",
       "3                      0                          0                        0   \n",
       "4                      0                          0                        0   \n",
       "\n",
       "   location_Brookefield  location_Kengeri  location_Hosa Road  \\\n",
       "0                     0                 0                   0   \n",
       "1                     0                 0                   0   \n",
       "2                     0                 0                   0   \n",
       "3                     0                 0                   0   \n",
       "4                     0                 0                   0   \n",
       "\n",
       "   location_Vijayanagar  location_Balagere  location_Green Glen Layout  \\\n",
       "0                     0                  0                           0   \n",
       "1                     0                  0                           0   \n",
       "2                     0                  0                           0   \n",
       "3                     0                  0                           0   \n",
       "4                     0                  0                           0   \n",
       "\n",
       "   location_Bommasandra  location_Rachenahalli  location_Panathur  \\\n",
       "0                     0                      0                  0   \n",
       "1                     0                      0                  0   \n",
       "2                     0                      0                  0   \n",
       "3                     0                      0                  0   \n",
       "4                     0                      0                  0   \n",
       "\n",
       "   location_Old Madras Road  location_Kudlu Gate  location_Mysore Road  \\\n",
       "0                         0                    0                     0   \n",
       "1                         0                    0                     0   \n",
       "2                         0                    0                     0   \n",
       "3                         0                    0                     0   \n",
       "4                         0                    0                     0   \n",
       "\n",
       "   location_Thigalarapalya  location_Talaghattapura  location_Kadugodi  \\\n",
       "0                        0                        0                  0   \n",
       "1                        0                        0                  0   \n",
       "2                        0                        0                  0   \n",
       "3                        0                        0                  0   \n",
       "4                        0                        0                  0   \n",
       "\n",
       "   location_Ambedkar Nagar  location_Jigani  location_Yelahanka New Town  \\\n",
       "0                        0                0                            0   \n",
       "1                        0                0                            0   \n",
       "2                        0                0                            0   \n",
       "3                        0                0                            0   \n",
       "4                        0                0                            0   \n",
       "\n",
       "   location_Frazer Town  location_Kanakapura  location_Attibele  \\\n",
       "0                     0                    0                  0   \n",
       "1                     0                    0                  0   \n",
       "2                     0                    0                  0   \n",
       "3                     0                    0                  0   \n",
       "4                     0                    0                  0   \n",
       "\n",
       "   location_Dodda Nekkundi  location_Devanahalli  \\\n",
       "0                        0                     0   \n",
       "1                        0                     0   \n",
       "2                        0                     0   \n",
       "3                        0                     0   \n",
       "4                        0                     0   \n",
       "\n",
       "   location_Lakshminarayana Pura  location_Nagarbhavi  \\\n",
       "0                              0                    0   \n",
       "1                              0                    0   \n",
       "2                              0                    0   \n",
       "3                              0                    0   \n",
       "4                              0                    0   \n",
       "\n",
       "   location_5th Phase JP Nagar  location_TC Palaya  location_Ananth Nagar  \\\n",
       "0                            0                   0                      0   \n",
       "1                            0                   0                      0   \n",
       "2                            0                   0                      0   \n",
       "3                            0                   0                      0   \n",
       "4                            0                   0                      0   \n",
       "\n",
       "   location_Anekal  location_Kudlu  location_CV Raman Nagar  \\\n",
       "0                0               0                        0   \n",
       "1                0               0                        0   \n",
       "2                0               0                        0   \n",
       "3                0               0                        0   \n",
       "4                0               0                        0   \n",
       "\n",
       "   location_Jalahalli  location_Kengeri Satellite Town  location_Doddathoguru  \\\n",
       "0                   0                                0                      0   \n",
       "1                   0                                0                      0   \n",
       "2                   0                                0                      0   \n",
       "3                   0                                0                      0   \n",
       "4                   0                                0                      0   \n",
       "\n",
       "   location_Bhoganhalli  location_Subramanyapura  location_Kalena Agrahara  \\\n",
       "0                     0                        0                         0   \n",
       "1                     0                        0                         0   \n",
       "2                     0                        0                         0   \n",
       "3                     0                        0                         0   \n",
       "4                     0                        0                         0   \n",
       "\n",
       "   location_Horamavu Agara  location_Vidyaranyapura  location_Hosur Road  \\\n",
       "0                        0                        0                    0   \n",
       "1                        0                        0                    0   \n",
       "2                        0                        0                    0   \n",
       "3                        0                        0                    0   \n",
       "4                        0                        0                    0   \n",
       "\n",
       "   location_Hebbal Kempapura  location_BTM 2nd Stage  location_Domlur  \\\n",
       "0                          0                       0                0   \n",
       "1                          0                       0                0   \n",
       "2                          0                       0                0   \n",
       "3                          0                       0                0   \n",
       "4                          0                       0                0   \n",
       "\n",
       "   location_Horamavu Banaswadi  location_Tumkur Road  location_Mahadevpura  \n",
       "0                            0                     0                     0  \n",
       "1                            0                     0                     0  \n",
       "2                            0                     0                     0  \n",
       "3                            0                     0                     0  \n",
       "4                            0                     0                     0  "
      ]
     },
     "execution_count": 5,
     "metadata": {},
     "output_type": "execute_result"
    }
   ],
   "source": [
    "df.head()"
   ]
  },
  {
   "cell_type": "markdown",
   "id": "0a017cb5-fb7b-4098-8e8e-cccb59669d22",
   "metadata": {
    "tags": []
   },
   "source": [
    "## Split Dataset in train and test"
   ]
  },
  {
   "cell_type": "code",
   "execution_count": 6,
   "id": "9e5b0206-6894-4d49-ada5-fdfba27d34a2",
   "metadata": {
    "tags": []
   },
   "outputs": [
    {
     "name": "stdout",
     "output_type": "stream",
     "text": [
      "Shape of X =  (7120, 107)\n",
      "Shape of y =  (7120,)\n"
     ]
    }
   ],
   "source": [
    "X = df.drop(\"price\", axis=1)\n",
    "y = df['price']\n",
    "print('Shape of X = ', X.shape)\n",
    "print('Shape of y = ', y.shape)"
   ]
  },
  {
   "cell_type": "code",
   "execution_count": 7,
   "id": "f3f5616f-74f0-4465-9fe7-244eeb6f3cd1",
   "metadata": {
    "tags": []
   },
   "outputs": [
    {
     "name": "stdout",
     "output_type": "stream",
     "text": [
      "Shape of X_train =  (5696, 107)\n",
      "Shape of y_train =  (5696,)\n",
      "Shape of X_test =  (1424, 107)\n",
      "Shape of y_test =  (1424,)\n"
     ]
    }
   ],
   "source": [
    "from sklearn.model_selection import train_test_split\n",
    "X_train, X_test, y_train, y_test = train_test_split(X, y, test_size = 0.2, random_state = 51)\n",
    "print('Shape of X_train = ', X_train.shape)\n",
    "print('Shape of y_train = ', y_train.shape)\n",
    "print('Shape of X_test = ', X_test.shape)\n",
    "print('Shape of y_test = ', y_test.shape)"
   ]
  },
  {
   "cell_type": "markdown",
   "id": "7de4a395-2fa8-4328-8569-4e5ce1f4c9d0",
   "metadata": {
    "tags": []
   },
   "source": [
    "## Feature Scaling"
   ]
  },
  {
   "cell_type": "code",
   "execution_count": 8,
   "id": "090229d9-d473-4619-bb5f-393a83994ac1",
   "metadata": {
    "tags": []
   },
   "outputs": [],
   "source": [
    "from sklearn.preprocessing import StandardScaler\n",
    "sc = StandardScaler()\n",
    "sc.fit(X_train)\n",
    "X_train= sc.transform(X_train)\n",
    "X_test = sc.transform(X_test)"
   ]
  },
  {
   "cell_type": "markdown",
   "id": "36f98168-7eb2-4c1d-bc3a-9710a7a09fe3",
   "metadata": {
    "tags": []
   },
   "source": [
    "# Machine Learning Model Training"
   ]
  },
  {
   "cell_type": "markdown",
   "id": "d00e579f-35c2-42b9-9343-84efdde7744b",
   "metadata": {
    "tags": []
   },
   "source": [
    "## Linear Regression"
   ]
  },
  {
   "cell_type": "code",
   "execution_count": 9,
   "id": "64cbade3-07fa-4b67-ae8b-9d202eee9dc5",
   "metadata": {
    "tags": []
   },
   "outputs": [],
   "source": [
    "from sklearn.linear_model import LinearRegression\n",
    "from sklearn.linear_model import Lasso\n",
    "from sklearn.linear_model import Ridge\n",
    "from sklearn.metrics import mean_squared_error\n",
    "lr = LinearRegression()\n",
    "lr_lasso = Lasso()\n",
    "lr_ridge = Ridge()"
   ]
  },
  {
   "cell_type": "markdown",
   "id": "9cd25abe-e960-4337-89d9-6ac1d47a27d2",
   "metadata": {
    "tags": []
   },
   "source": [
    "## Mean Squared Error"
   ]
  },
  {
   "cell_type": "code",
   "execution_count": 10,
   "id": "9ba188f9-858a-46c9-a8f5-f02cb138ad77",
   "metadata": {
    "tags": []
   },
   "outputs": [],
   "source": [
    "def rmse(y_test, y_pred):\n",
    "  return np.sqrt(mean_squared_error(y_test, y_pred))"
   ]
  },
  {
   "cell_type": "code",
   "execution_count": 11,
   "id": "c133a5fd-16db-4324-87d4-c9dc0b2f7f48",
   "metadata": {
    "tags": []
   },
   "outputs": [
    {
     "data": {
      "text/plain": [
       "(0.790383709268225, 64.8984353110561)"
      ]
     },
     "execution_count": 11,
     "metadata": {},
     "output_type": "execute_result"
    }
   ],
   "source": [
    "lr.fit(X_train, y_train)\n",
    "lr_score = lr.score(X_test, y_test) \n",
    "lr_rmse = rmse(y_test, lr.predict(X_test))\n",
    "lr_score, lr_rmse"
   ]
  },
  {
   "cell_type": "markdown",
   "id": "bb5ca820-c8e8-4d9e-8565-3d5542f3dc4f",
   "metadata": {
    "tags": []
   },
   "source": [
    "## Lasso"
   ]
  },
  {
   "cell_type": "code",
   "execution_count": 12,
   "id": "57e3a7cd-a317-4203-9a76-c0699f71f02f",
   "metadata": {
    "tags": []
   },
   "outputs": [
    {
     "data": {
      "text/plain": [
       "(0.8036372973672522, 62.813242204691534)"
      ]
     },
     "execution_count": 12,
     "metadata": {},
     "output_type": "execute_result"
    }
   ],
   "source": [
    "lr_lasso.fit(X_train, y_train)\n",
    "lr_lasso_score=lr_lasso.score(X_test, y_test) \n",
    "lr_lasso_rmse = rmse(y_test, lr_lasso.predict(X_test))\n",
    "lr_lasso_score, lr_lasso_rmse"
   ]
  },
  {
   "cell_type": "markdown",
   "id": "e10ff299-f934-44a6-9615-3c98854c2c91",
   "metadata": {
    "tags": []
   },
   "source": [
    "## Support Vector Machine"
   ]
  },
  {
   "cell_type": "code",
   "execution_count": 13,
   "id": "8c4d53a2-adf4-4f2c-be04-25673241f220",
   "metadata": {
    "tags": []
   },
   "outputs": [
    {
     "data": {
      "text/plain": [
       "(0.2063803584082815, 126.27806378079056)"
      ]
     },
     "execution_count": 13,
     "metadata": {},
     "output_type": "execute_result"
    }
   ],
   "source": [
    "from sklearn.svm import SVR\n",
    "svr = SVR()\n",
    "svr.fit(X_train,y_train)\n",
    "svr_score=svr.score(X_test,y_test) \n",
    "svr_rmse = rmse(y_test, svr.predict(X_test))\n",
    "svr_score, svr_rmse"
   ]
  },
  {
   "cell_type": "markdown",
   "id": "ab87b86c-de5f-4cd3-8d12-4c27c3fd15e2",
   "metadata": {
    "tags": []
   },
   "source": [
    "## Random Forest Regressor"
   ]
  },
  {
   "cell_type": "code",
   "execution_count": 14,
   "id": "772e3e52-6227-4fad-9383-65325bb38c05",
   "metadata": {
    "tags": []
   },
   "outputs": [
    {
     "data": {
      "text/plain": [
       "(0.8843471230100325, 48.205870610162485)"
      ]
     },
     "execution_count": 14,
     "metadata": {},
     "output_type": "execute_result"
    }
   ],
   "source": [
    "from sklearn.ensemble import RandomForestRegressor\n",
    "rfr = RandomForestRegressor()\n",
    "rfr.fit(X_train,y_train)\n",
    "rfr_score=rfr.score(X_test,y_test) \n",
    "rfr_rmse = rmse(y_test, rfr.predict(X_test))\n",
    "rfr_score, rfr_rmse"
   ]
  },
  {
   "cell_type": "markdown",
   "id": "da8db83f-41e8-4c05-a707-3c92c5005e65",
   "metadata": {
    "tags": []
   },
   "source": [
    "## XGBoost"
   ]
  },
  {
   "cell_type": "code",
   "execution_count": 15,
   "id": "91667561-0900-42dd-959e-2e0a50ee1f37",
   "metadata": {
    "tags": []
   },
   "outputs": [
    {
     "data": {
      "text/plain": [
       "(0.8811268741365585, 48.87238707845022)"
      ]
     },
     "execution_count": 15,
     "metadata": {},
     "output_type": "execute_result"
    }
   ],
   "source": [
    "import xgboost\n",
    "xgb_reg = xgboost.XGBRegressor()\n",
    "xgb_reg.fit(X_train,y_train)\n",
    "xgb_reg_score=xgb_reg.score(X_test,y_test) \n",
    "xgb_reg_rmse = rmse(y_test, xgb_reg.predict(X_test))\n",
    "xgb_reg_score, xgb_reg_rmse"
   ]
  },
  {
   "cell_type": "code",
   "execution_count": 16,
   "id": "fea3bac2-3341-4b0b-b46f-e3dd8653bc6c",
   "metadata": {},
   "outputs": [
    {
     "name": "stdout",
     "output_type": "stream",
     "text": [
      "                    Model     Score        RMSE\n",
      "0       Linear Regression  0.790384   64.898435\n",
      "1                   Lasso  0.803637   62.813242\n",
      "2  Support Vector Machine  0.206380  126.278064\n",
      "3           Random Forest  0.884347   48.205871\n",
      "4                 XGBoost  0.881127   48.872387\n"
     ]
    }
   ],
   "source": [
    "print(pd.DataFrame([{'Model': 'Linear Regression','Score':lr_score, \"RMSE\":lr_rmse},\n",
    "              {'Model': 'Lasso','Score':lr_lasso_score, \"RMSE\":lr_lasso_rmse},\n",
    "              {'Model': 'Support Vector Machine','Score':svr_score, \"RMSE\":svr_rmse},\n",
    "              {'Model': 'Random Forest','Score':rfr_score, \"RMSE\":rfr_rmse},\n",
    "              {'Model': 'XGBoost','Score':xgb_reg_score, \"RMSE\":xgb_reg_rmse}],\n",
    "             columns=['Model','Score','RMSE']))"
   ]
  },
  {
   "cell_type": "markdown",
   "id": "67cf0ed0-6960-4925-8aab-cbf6e77d19e2",
   "metadata": {},
   "source": [
    "## Cross Validation"
   ]
  },
  {
   "cell_type": "code",
   "execution_count": 17,
   "id": "d1193055-a458-4406-aab7-37076e61ab90",
   "metadata": {
    "tags": []
   },
   "outputs": [
    {
     "data": {
      "text/plain": [
       "(array([0.99215108, 0.96912061, 0.99505317, 0.96791025, 0.96841357,\n",
       "        0.98628591, 0.98932835, 0.88337835, 0.98860677, 0.90048394]),\n",
       " 0.9640732001671554)"
      ]
     },
     "execution_count": 17,
     "metadata": {},
     "output_type": "execute_result"
    }
   ],
   "source": [
    "from sklearn.model_selection import KFold,cross_val_score\n",
    "cvs = cross_val_score(xgb_reg, X_train,y_train, cv = 10)\n",
    "cvs, cvs.mean()"
   ]
  },
  {
   "cell_type": "code",
   "execution_count": null,
   "id": "d4b7dabb-c045-4bf4-9a14-f52cf000e205",
   "metadata": {
    "tags": []
   },
   "outputs": [],
   "source": [
    "cvs_rfr = cross_val_score(rfr, X_train,y_train, cv = 10)\n",
    "cvs_rfr, cvs_rfr.mean() "
   ]
  },
  {
   "cell_type": "code",
   "execution_count": 19,
   "id": "b24352ec-75eb-47db-b176-6e1a565430a4",
   "metadata": {
    "tags": []
   },
   "outputs": [
    {
     "data": {
      "text/plain": [
       "(array([0.99414774, 0.96814756, 0.99664449, 0.95193111, 0.96370976,\n",
       "        0.92021673, 0.93288141, 0.90088328, 0.99609828, 0.98903949]),\n",
       " 0.9613699851788683)"
      ]
     },
     "execution_count": 19,
     "metadata": {},
     "output_type": "execute_result"
    }
   ],
   "source": [
    "from sklearn.model_selection import cross_val_score\n",
    "cvs_rfr2 = cross_val_score(RandomForestRegressor(), X_train,y_train, cv = 10)\n",
    "cvs_rfr2, cvs_rfr2.mean()"
   ]
  },
  {
   "cell_type": "code",
   "execution_count": 19,
   "id": "540ae8e9-bc3c-4583-8aab-1a7e0697b181",
   "metadata": {
    "tags": []
   },
   "outputs": [
    {
     "data": {
      "text/plain": [
       "(array([0.99414774, 0.96814756, 0.99664449, 0.95193111, 0.96370976,\n",
       "        0.92021673, 0.93288141, 0.90088328, 0.99609828, 0.98903949]),\n",
       " 0.9613699851788683)"
      ]
     },
     "execution_count": 19,
     "metadata": {},
     "output_type": "execute_result"
    }
   ],
   "source": [
    "from sklearn.model_selection import cross_val_score\n",
    "cvs_rfr2 = cross_val_score(RandomForestRegressor(), X_train,y_train, cv = 10)\n",
    "cvs_rfr2, cvs_rfr2.mean()"
   ]
  },
  {
   "cell_type": "markdown",
   "id": "f5dc8e85-3feb-4d3a-9e04-4eea1e3483d2",
   "metadata": {},
   "source": [
    "## Test Model"
   ]
  },
  {
   "cell_type": "code",
   "execution_count": 24,
   "id": "594d2d6a-2935-4fc5-a1ea-766c1b6bf53c",
   "metadata": {
    "tags": []
   },
   "outputs": [],
   "source": [
    "list(X.columns)\n",
    "def predict_house_price(model,bath,balcony,total_sqft_int,bhk,price_per_sqft,area_type,availability,location):\n",
    "  x=np.zeros(len(X.columns))"
   ]
  },
  {
   "cell_type": "code",
   "execution_count": 34,
   "id": "d561b619-0a8a-409e-94bc-a58f87bdd753",
   "metadata": {
    "tags": []
   },
   "outputs": [],
   "source": [
    "predict_house_price(model=xgb_reg, bath=3,balcony=2,total_sqft_int=1672,bhk=3,price_per_sqft=8971.291866,area_type=\"Plot  Area\",availability=\"Ready To Move\",location=\"Devarabeesana Halli\")"
   ]
  },
  {
   "cell_type": "code",
   "execution_count": 35,
   "id": "f9440be4-bab0-4105-b806-4685877ca5f2",
   "metadata": {
    "tags": []
   },
   "outputs": [],
   "source": [
    "predict_house_price(model=rfr, bath=3,balcony=2,total_sqft_int=1750,bhk=3,price_per_sqft=8571.428571,area_type=\"Super built-up\",availability=\"Ready To Move\",location=\"Devarabeesana Halli\")"
   ]
  },
  {
   "cell_type": "markdown",
   "id": "ec4dbe5b-916f-42ff-96f9-b97814f64f16",
   "metadata": {},
   "source": [
    "# Save model & load model"
   ]
  },
  {
   "cell_type": "code",
   "execution_count": 44,
   "id": "829dd52e-3844-497f-a329-edd925a328fc",
   "metadata": {
    "tags": []
   },
   "outputs": [
    {
     "data": {
      "text/plain": [
       "['bangalore_house_price_prediction_rfr_model.pkl']"
      ]
     },
     "execution_count": 44,
     "metadata": {},
     "output_type": "execute_result"
    }
   ],
   "source": [
    "import joblib\n",
    "# save model\n",
    "joblib.dump(xgb_reg,'bangalore_house_price_prediction_model.pkl')\n",
    "joblib.dump(rfr, 'bangalore_house_price_prediction_rfr_model.pkl')"
   ]
  },
  {
   "cell_type": "code",
   "execution_count": 45,
   "id": "10263ed4-bea6-43f5-ac6c-a4a2e4ae30f9",
   "metadata": {
    "tags": []
   },
   "outputs": [],
   "source": [
    "# load model\n",
    "bangalore_house_price_prediction_model = joblib.load(\"bangalore_house_price_prediction_model.pkl\")\n",
    "bangalore_house_price_prediction_model = joblib.load(\"bangalore_house_price_prediction_rfr_model.pkl\")"
   ]
  },
  {
   "cell_type": "code",
   "execution_count": 46,
   "id": "aac15899-ad47-4fe1-a1c2-48fc1bc54656",
   "metadata": {
    "tags": []
   },
   "outputs": [],
   "source": [
    "# predict house price\n",
    "predict_house_price(bangalore_house_price_prediction_model,bath=3,balcony=3,total_sqft_int=150,bhk=3,price_per_sqft=8514.285714,area_type=\"Built-up Area\",availability=\"Ready To Move\",location=\"Devarabeesana Halli\")"
   ]
  },
  {
   "cell_type": "code",
   "execution_count": null,
   "id": "f34c1ee8-661d-4e69-bbcc-c07091fdcf16",
   "metadata": {},
   "outputs": [],
   "source": []
  }
 ],
 "metadata": {
  "kernelspec": {
   "display_name": "Python 3 (ipykernel)",
   "language": "python",
   "name": "python3"
  },
  "language_info": {
   "codemirror_mode": {
    "name": "ipython",
    "version": 3
   },
   "file_extension": ".py",
   "mimetype": "text/x-python",
   "name": "python",
   "nbconvert_exporter": "python",
   "pygments_lexer": "ipython3",
   "version": "3.11.5"
  }
 },
 "nbformat": 4,
 "nbformat_minor": 5
}
